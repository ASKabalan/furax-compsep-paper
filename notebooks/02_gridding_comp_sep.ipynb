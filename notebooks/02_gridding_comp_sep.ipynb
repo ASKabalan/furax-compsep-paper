{
 "cells": [
  {
   "cell_type": "code",
   "execution_count": 1,
   "metadata": {},
   "outputs": [],
   "source": [
    "import jax.numpy as jnp\n",
    "\n",
    "from furax._base.core import HomothetyOperator\n",
    "from furax.landscapes import StokesPyTree\n",
    "from functools import partial"
   ]
  },
  {
   "cell_type": "code",
   "execution_count": 2,
   "metadata": {},
   "outputs": [
    {
     "name": "stdout",
     "output_type": "stream",
     "text": [
      "Loaded freq_maps for nside 32 from cache.\n",
      "Loaded freq_maps for nside 64 from cache.\n",
      "Loaded freq_maps for nside 128 from cache.\n",
      "Loaded freq_maps for nside 256 from cache.\n",
      "Loaded freq_maps for nside 512 from cache.\n"
     ]
    }
   ],
   "source": [
    "from generate_maps import save_to_cache\n",
    "\n",
    "nsides = [32, 64, 128, 256, 512]\n",
    "for nside in nsides:\n",
    "    save_to_cache(nside)"
   ]
  },
  {
   "cell_type": "code",
   "execution_count": 3,
   "metadata": {},
   "outputs": [
    {
     "name": "stdout",
     "output_type": "stream",
     "text": [
      "Loaded freq_maps for nside 32 from cache.\n",
      "freq_maps shape: (15, 3, 12288)\n"
     ]
    }
   ],
   "source": [
    "from generate_maps import load_from_cache\n",
    "\n",
    "nside = 32\n",
    "\n",
    "nu, freq_maps = load_from_cache(nside)\n",
    "# Check the shape of freq_maps\n",
    "print('freq_maps shape:', freq_maps.shape)"
   ]
  },
  {
   "cell_type": "code",
   "execution_count": 4,
   "metadata": {},
   "outputs": [],
   "source": [
    "d = StokesPyTree.from_stokes(Q=freq_maps[:, 1, :], U=freq_maps[:, 2, :])\n",
    "N = HomothetyOperator(jnp.ones(1), _in_structure=d.structure)"
   ]
  },
  {
   "cell_type": "code",
   "execution_count": 6,
   "metadata": {},
   "outputs": [],
   "source": [
    "from furax.comp_sep import spectral_cmb_variance\n",
    "\n",
    "dust_nu0 = 150.0\n",
    "synchrotron_nu0 = 20.0\n",
    "\n",
    "spectral_cmb_variance = partial(\n",
    "    spectral_cmb_variance, dust_nu0=dust_nu0, synchrotron_nu0=synchrotron_nu0\n",
    ")"
   ]
  },
  {
   "cell_type": "code",
   "execution_count": 7,
   "metadata": {},
   "outputs": [
    {
     "name": "stdout",
     "output_type": "stream",
     "text": [
      "Final parameters: {'beta_dust': Array(1.54888217, dtype=float64), 'beta_pl': Array(-3.05748183, dtype=float64), 'temp_dust': Array(19.59906649, dtype=float64)}, number of evaluations: 12\n",
      "Initial Value: 0.30217391179530706\n"
     ]
    }
   ],
   "source": [
    "from furax.comp_sep import optimize\n",
    "import optax\n",
    "import optax.tree_utils as otu\n",
    "\n",
    "solver = optax.lbfgs()\n",
    "\n",
    "params = {'beta_dust': 1.59, 'beta_pl': -3.1, 'temp_dust': 19.6}\n",
    "\n",
    "final_params, final_state = optimize(\n",
    "    params, spectral_cmb_variance, solver, max_iter=100, tol=1e-4, nu=nu, N=N, d=d\n",
    ")\n",
    "\n",
    "print(\n",
    "    f\"Final parameters: {final_params}, number of evaluations: {otu.tree_get(final_state, 'count')}\"\n",
    ")\n",
    "print(f'Initial Value: {spectral_cmb_variance(final_params , nu=nu, N=N, d=d)}')"
   ]
  },
  {
   "cell_type": "code",
   "execution_count": 8,
   "metadata": {},
   "outputs": [
    {
     "name": "stdout",
     "output_type": "stream",
     "text": [
      "Selecting batch size of 25\n",
      "log_interval: 4\n"
     ]
    },
    {
     "name": "stderr",
     "output_type": "stream",
     "text": [
      "Processing batches: 100%|██████████| 40/40 [00:20<00:00,  1.93it/s]\n"
     ]
    },
    {
     "name": "stdout",
     "output_type": "stream",
     "text": [
      "Done .. Stacking the results\n",
      "beta_dust : 1.548882170771958\n",
      "temp_dust : 19.599066490764134\n",
      "beta_pl : -3.057481830864701\n",
      "value : 0.30217391179530706\n"
     ]
    }
   ],
   "source": [
    "from jax_grid_search import DistributedGridSearch\n",
    "\n",
    "\n",
    "def objective_function(beta_dust, temp_dust, beta_pl):\n",
    "    params = {\n",
    "        'beta_dust': beta_dust,\n",
    "        'temp_dust': temp_dust,\n",
    "        'beta_pl': beta_pl,\n",
    "    }\n",
    "\n",
    "    return spectral_cmb_variance(params, nu=nu, N=N, d=d)\n",
    "\n",
    "\n",
    "# Put the good values for the grid search\n",
    "search_space = {\n",
    "    'beta_dust': jnp.linspace(1.5, 3.5, 10).at[3].set(final_params['beta_dust']),\n",
    "    'temp_dust': jnp.linspace(5.0, 50.0, 10).at[2].set(final_params['temp_dust']),\n",
    "    'beta_pl': jnp.linspace(-4.5, -1.5, 10).at[4].set(final_params['beta_pl']),\n",
    "}\n",
    "\n",
    "grid_search = DistributedGridSearch(\n",
    "    objective_function, search_space, batch_size=25, progress_bar=True, log_every=0.1\n",
    ")\n",
    "\n",
    "results = grid_search.run()\n",
    "\n",
    "for keys, values in results.items():\n",
    "    print(f'{keys} : {values[0]}')"
   ]
  }
 ],
 "metadata": {
  "kernelspec": {
   "display_name": "Python 3",
   "language": "python",
   "name": "python3"
  },
  "language_info": {
   "codemirror_mode": {
    "name": "ipython",
    "version": 3
   },
   "file_extension": ".py",
   "mimetype": "text/x-python",
   "name": "python",
   "nbconvert_exporter": "python",
   "pygments_lexer": "ipython3",
   "version": "3.11.11"
  }
 },
 "nbformat": 4,
 "nbformat_minor": 2
}
