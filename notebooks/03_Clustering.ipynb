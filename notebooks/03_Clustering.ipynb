{
 "cells": [
  {
   "cell_type": "code",
   "execution_count": 3,
   "metadata": {},
   "outputs": [],
   "source": [
    "import jax\n",
    "import healpy as hp\n",
    "import numpy as np\n",
    "\n",
    "from furax.comp_sep import spectral_cmb_variance, get_clusters, optimize\n",
    "\n",
    "import jax.numpy as jnp\n",
    "\n",
    "from furax._base.core import HomothetyOperator\n",
    "from furax.landscapes import StokesPyTree\n",
    "from furax.tree import allclose\n",
    "from functools import partial\n",
    "import matplotlib.pyplot as plt"
   ]
  },
  {
   "cell_type": "code",
   "execution_count": 5,
   "metadata": {},
   "outputs": [],
   "source": [
    "GAL020 = np.load('masks/GAL_PlanckMasks_64.npz')['GAL020']\n",
    "GAL040 = np.load('masks/GAL_PlanckMasks_64.npz')['GAL040']\n",
    "GAL060 = np.load('masks/GAL_PlanckMasks_64.npz')['GAL060']"
   ]
  },
  {
   "cell_type": "code",
   "execution_count": 6,
   "id": "b29121a4",
   "metadata": {
    "collapsed": false,
    "id": "0tyR49gocuVs",
    "jupyter": {
     "outputs_hidden": false
    }
   },
   "outputs": [],
   "source": [
    "nside = 64\n",
    "npixel = 12 * nside**2\n",
    "stokes_type = 'QU'\n",
    "frequency_count = 15\n",
    "nu = jnp.linspace(40.0, 402.0, frequency_count)"
   ]
  },
  {
   "cell_type": "code",
   "execution_count": 7,
   "id": "2f312532",
   "metadata": {
    "collapsed": false,
    "id": "aNx6qxBTcxt5",
    "jupyter": {
     "outputs_hidden": false
    }
   },
   "outputs": [],
   "source": [
    "comp_keys = jax.random.split(jax.random.PRNGKey(0), 3)\n",
    "stokes_cls = StokesPyTree.class_for(stokes_type)\n",
    "\n",
    "sky = {\n",
    "    'cmb': stokes_cls.normal(comp_keys[0], (npixel,)),\n",
    "    'dust': stokes_cls.normal(comp_keys[1], (npixel,)),\n",
    "    'synchrotron': stokes_cls.normal(comp_keys[2], (npixel,)),\n",
    "}"
   ]
  },
  {
   "cell_type": "code",
   "execution_count": 8,
   "metadata": {},
   "outputs": [
    {
     "data": {
      "image/png": "[encoded data removed]",
      "text/plain": [
       "<Figure size 1500x1500 with 6 Axes>"
      ]
     },
     "metadata": {},
     "output_type": "display_data"
    }
   ],
   "source": [
    "figure = plt.figure(figsize=(15, 15))\n",
    "hp.mollview(GAL020, title='Mask GalPlane', sub=(1, 3, 1))\n",
    "hp.mollview(GAL040, title='Mask GalPlane', sub=(1, 3, 2))\n",
    "hp.mollview(GAL060, title='Mask GalPlane', sub=(1, 3, 3))\n",
    "plt.show()"
   ]
  },
  {
   "cell_type": "code",
   "execution_count": null,
   "metadata": {},
   "outputs": [
    {
     "ename": "TypeError",
     "evalue": "get_clusters() missing 1 required positional argument: 'key'",
     "output_type": "error",
     "traceback": [
      "\u001b[0;31m---------------------------------------------------------------------------\u001b[0m",
      "\u001b[0;31mTypeError\u001b[0m                                 Traceback (most recent call last)",
      "Cell \u001b[0;32mIn[9], line 6\u001b[0m\n\u001b[1;32m      2\u001b[0m beta_dust_patches_count \u001b[38;5;241m=\u001b[39m \u001b[38;5;241m20\u001b[39m\n\u001b[1;32m      3\u001b[0m beta_pl_patches_count \u001b[38;5;241m=\u001b[39m \u001b[38;5;241m5\u001b[39m\n\u001b[0;32m----> 6\u001b[0m temp_dust_patch_indices \u001b[38;5;241m=\u001b[39m \u001b[43mget_clusters\u001b[49m\u001b[43m(\u001b[49m\u001b[43mGAL020\u001b[49m\u001b[43m,\u001b[49m\u001b[43m \u001b[49m\u001b[43mtemp_dust_patches_count\u001b[49m\u001b[43m,\u001b[49m\u001b[43m \u001b[49m\u001b[43mjax\u001b[49m\u001b[38;5;241;43m.\u001b[39;49m\u001b[43mrandom\u001b[49m\u001b[38;5;241;43m.\u001b[39;49m\u001b[43mPRNGKey\u001b[49m\u001b[43m(\u001b[49m\u001b[38;5;241;43m0\u001b[39;49m\u001b[43m)\u001b[49m\u001b[43m)\u001b[49m\n\u001b[1;32m      7\u001b[0m beta_dust_patch_indices \u001b[38;5;241m=\u001b[39m get_clusters(GAL020, beta_dust_patches_count, jax\u001b[38;5;241m.\u001b[39mrandom\u001b[38;5;241m.\u001b[39mPRNGKey(\u001b[38;5;241m0\u001b[39m))\n\u001b[1;32m      8\u001b[0m beta_pl_patch_indices \u001b[38;5;241m=\u001b[39m get_clusters(GAL020, beta_pl_patches_count, jax\u001b[38;5;241m.\u001b[39mrandom\u001b[38;5;241m.\u001b[39mPRNGKey(\u001b[38;5;241m0\u001b[39m))\n",
      "    \u001b[0;31m[... skipping hidden 14 frame]\u001b[0m\n",
      "File \u001b[0;32m~/micromamba/envs/fg/lib/python3.11/site-packages/jax/_src/api_util.py:691\u001b[0m, in \u001b[0;36mresult_paths\u001b[0;34m(_fun, _store, *args, **kwargs)\u001b[0m\n\u001b[1;32m    688\u001b[0m \u001b[38;5;129m@lu\u001b[39m\u001b[38;5;241m.\u001b[39mtransformation_with_aux2\n\u001b[1;32m    689\u001b[0m \u001b[38;5;28;01mdef\u001b[39;00m\u001b[38;5;250m \u001b[39m\u001b[38;5;21mresult_paths\u001b[39m(_fun, _store, \u001b[38;5;241m*\u001b[39margs, \u001b[38;5;241m*\u001b[39m\u001b[38;5;241m*\u001b[39mkwargs):\n\u001b[1;32m    690\u001b[0m   \u001b[38;5;124m\"\u001b[39m\u001b[38;5;124mlinear_util transform to get output pytree paths of pre-flattened function.\u001b[39m\u001b[38;5;124m\"\u001b[39m\n\u001b[0;32m--> 691\u001b[0m   ans \u001b[38;5;241m=\u001b[39m \u001b[43m_fun\u001b[49m\u001b[43m(\u001b[49m\u001b[38;5;241;43m*\u001b[39;49m\u001b[43margs\u001b[49m\u001b[43m,\u001b[49m\u001b[43m \u001b[49m\u001b[38;5;241;43m*\u001b[39;49m\u001b[38;5;241;43m*\u001b[39;49m\u001b[43mkwargs\u001b[49m\u001b[43m)\u001b[49m\n\u001b[1;32m    692\u001b[0m   _store\u001b[38;5;241m.\u001b[39mstore([keystr(path) \u001b[38;5;28;01mfor\u001b[39;00m path, _ \u001b[38;5;129;01min\u001b[39;00m generate_key_paths(ans)])\n\u001b[1;32m    693\u001b[0m   \u001b[38;5;28;01mreturn\u001b[39;00m ans\n",
      "\u001b[0;31mTypeError\u001b[0m: get_clusters() missing 1 required positional argument: 'key'"
     ]
    },
    {
     "ename": "",
     "evalue": "",
     "output_type": "error",
     "traceback": [
      "\u001b[1;31mThe Kernel crashed while executing code in the current cell or a previous cell. \n",
      "\u001b[1;31mPlease review the code in the cell(s) to identify a possible cause of the failure. \n",
      "\u001b[1;31mClick <a href='https://aka.ms/vscodeJupyterKernelCrash'>here</a> for more info. \n",
      "\u001b[1;31mView Jupyter <a href='command:jupyter.viewOutput'>log</a> for further details."
     ]
    }
   ],
   "source": [
    "temp_dust_patches_count = 10\n",
    "beta_dust_patches_count = 20\n",
    "beta_pl_patches_count = 5\n",
    "\n",
    "\n",
    "temp_dust_patch_indices = get_clusters(GAL020, temp_dust_patches_count, jax.random.PRNGKey(0))\n",
    "beta_dust_patch_indices = get_clusters(GAL020, beta_dust_patches_count, jax.random.PRNGKey(0))\n",
    "beta_pl_patch_indices = get_clusters(GAL020, beta_pl_patches_count, jax.random.PRNGKey(0))\n",
    "\n",
    "params = {\n",
    "    'temp_dust': jnp.linspace(10.0, 30.0, temp_dust_patches_count),\n",
    "    'beta_dust': jnp.linspace(1.5, 2.5, beta_dust_patches_count),\n",
    "    'beta_pl': jnp.linspace(-3.0, -2.0, beta_pl_patches_count),\n",
    "}\n",
    "\n",
    "patch_indices = {\n",
    "    'temp_dust_patches': temp_dust_patch_indices,\n",
    "    'beta_dust_patches': beta_dust_patch_indices,\n",
    "    'beta_pl_patches': beta_pl_patch_indices,\n",
    "}\n",
    "\n",
    "# Set up subplots\n",
    "fig = plt.figure(figsize=(15, 5))\n",
    "# Plot each map\n",
    "hp.mollview(temp_dust_patch_indices, title='Temperature Dust Patches', sub=(1, 3, 1))\n",
    "hp.mollview(beta_dust_patch_indices, title='Beta Dust Patches', sub=(1, 3, 2))\n",
    "hp.mollview(beta_pl_patch_indices, title='Beta PL Patches', sub=(1, 3, 3))\n",
    "\n",
    "# Display the plot\n",
    "plt.show()"
   ]
  },
  {
   "cell_type": "code",
   "execution_count": 7,
   "metadata": {},
   "outputs": [],
   "source": [
    "@jax.jit\n",
    "def get_cutout_from_mask(ful_map, indices):\n",
    "    return jnp.take(ful_map, indices)\n",
    "\n",
    "\n",
    "@jax.jit\n",
    "def from_cutout_to_fullmap(goodpix, indices, ful_map):\n",
    "    return ful_map.at[indices].set(goodpix)\n",
    "\n",
    "\n",
    "(indices,) = jnp.where(GAL020 == 1)\n",
    "\n",
    "masked_sky = jax.tree.map(lambda full_map: get_cutout_from_mask(full_map, indices), sky)\n",
    "masked_clusters = jax.tree.map(\n",
    "    lambda full_map: get_cutout_from_mask(full_map, indices).astype(jnp.int32), patch_indices\n",
    ")"
   ]
  },
  {
   "cell_type": "code",
   "execution_count": 12,
   "metadata": {},
   "outputs": [],
   "source": [
    "from generate_maps import simulate_D_from_params\n",
    "\n",
    "dust_nu0 = 150.0\n",
    "synchrotron_nu0 = 20.0\n",
    "\n",
    "spectral_cmb_variance = partial(\n",
    "    spectral_cmb_variance, dust_nu0=dust_nu0, synchrotron_nu0=synchrotron_nu0\n",
    ")\n",
    "\n",
    "stokes = 'QU'\n",
    "\n",
    "d = simulate_D_from_params(\n",
    "    params,\n",
    "    masked_clusters,\n",
    "    nu,\n",
    "    masked_sky,\n",
    "    stokes,\n",
    "    dust_nu0=dust_nu0,\n",
    "    synchrotron_nu0=synchrotron_nu0,\n",
    ")\n",
    "\n",
    "\n",
    "N = HomothetyOperator(jnp.ones(1), _in_structure=d.structure)\n",
    "\n",
    "wrong_params = jax.tree.map(\n",
    "    lambda x: jax.random.normal(jax.random.PRNGKey(0), x.shape) * 0.2 + x, params\n",
    ")"
   ]
  },
  {
   "cell_type": "code",
   "execution_count": null,
   "metadata": {},
   "outputs": [
    {
     "name": "stdout",
     "output_type": "stream",
     "text": [
      "Good variance : 1.9697431244929993 , Bad variance : 2.392095392634851 \n",
      "Good variance is better than bad variance : True\n"
     ]
    }
   ],
   "source": [
    "good_var = spectral_cmb_variance(params, nu=nu, d=d, N=N, patch_indices=masked_clusters)\n",
    "bad_var = spectral_cmb_variance(wrong_params, nu=nu, d=d, N=N, patch_indices=masked_clusters)\n",
    "\n",
    "print(f'Good variance : {good_var} , Bad variance : {bad_var}')\n",
    "print(f'Good variance is better than bad variance : {good_var < bad_var}')"
   ]
  },
  {
   "cell_type": "code",
   "execution_count": null,
   "metadata": {},
   "outputs": [
    {
     "name": "stdout",
     "output_type": "stream",
     "text": [
      "update norm 67.23930779440374 at iter 0 value inf\n",
      "update norm 0.05151629637842463 at iter 1 value 1.9697431244935113\n",
      "update norm 0.020250837808770707 at iter 2 value 1.968409462962489\n",
      "update norm 0.009603934200142475 at iter 3 value 1.9681772444960437\n",
      "update norm 0.004522962907657648 at iter 4 value 1.9681387308947378\n",
      "update norm 0.0035213772285755396 at iter 5 value 1.9681319458242648\n",
      "update norm 0.012888645591436255 at iter 6 value 1.96812737759485\n",
      "update norm 0.03187636815861763 at iter 7 value 1.9681141649416516\n",
      "update norm 0.0856310806824494 at iter 8 value 1.9680858435915844\n",
      "update norm 0.1506180039182451 at iter 9 value 1.9680226757810153\n",
      "update norm 0.07385283229271254 at iter 10 value 1.9679541048651732\n",
      "update norm 0.012398296963235356 at iter 11 value 1.9678850885762023\n",
      "update norm 0.0036138414991945863 at iter 12 value 1.9678513713270744\n",
      "update norm 0.0013230713358837061 at iter 13 value 1.967848450524694\n",
      "update norm 0.0018770972367877367 at iter 14 value 1.9678477175670537\n",
      "update norm 0.014416585599480072 at iter 15 value 1.9678467818766245\n",
      "update norm 0.030847535629917208 at iter 16 value 1.967840925659375\n",
      "update norm 0.0883400339780912 at iter 17 value 1.9678298884646368\n",
      "update norm 0.20202205656068226 at iter 18 value 1.9678003363590117\n",
      "update norm 0.33033383713715136 at iter 19 value 1.9677388953246735\n",
      "update norm 0.06960337379328344 at iter 20 value 1.9676442310951476\n",
      "update norm 0.27402691164861825 at iter 21 value 1.9676295550284375\n",
      "update norm 0.0060536190342438435 at iter 22 value 1.9675537437366377\n",
      "update norm 0.034365284873395394 at iter 23 value 1.9675302042761071\n",
      "update norm 0.0034320797570648446 at iter 24 value 1.967527936639537\n",
      "update norm 0.0037706543752464928 at iter 25 value 1.967527771485646\n",
      "update norm 0.005140928598918212 at iter 26 value 1.9675274219692436\n",
      "update norm 0.011095004396044175 at iter 27 value 1.9675265609969825\n",
      "update norm 0.028932746804577907 at iter 28 value 1.967524307895864\n",
      "update norm 0.06980736151817046 at iter 29 value 1.967519064196824\n",
      "update norm 0.12690569233085752 at iter 30 value 1.967508429797882\n",
      "update norm 0.12527529942874044 at iter 31 value 1.967491765158012\n",
      "update norm 0.07284029635863516 at iter 32 value 1.9674758083602268\n",
      "update norm 0.022332316070626888 at iter 33 value 1.9674701270442905\n",
      "update norm 0.010705814373232553 at iter 34 value 1.9674681019981468\n",
      "update norm 0.006682458635455118 at iter 35 value 1.9674679682896619\n",
      "update norm 0.010931901138642033 at iter 36 value 1.967467876063556\n",
      "update norm 0.016479118823600633 at iter 37 value 1.9674675090088591\n",
      "update norm 0.04396548330175367 at iter 38 value 1.9674665228828134\n",
      "update norm 0.06818335559003859 at iter 39 value 1.967463722323933\n",
      "update norm 0.15270873940818006 at iter 40 value 1.9674587632950997\n",
      "update norm 0.09999246943185294 at iter 41 value 1.9674503150766833\n",
      "update norm 0.05497416036978703 at iter 42 value 1.967446150968849\n",
      "update norm 0.007397976447043088 at iter 43 value 1.9674437573487977\n",
      "update norm 0.011313143690619143 at iter 44 value 1.9674434555178228\n",
      "update norm 0.021851270207282593 at iter 45 value 1.9674429992298286\n",
      "update norm 0.029477698774760544 at iter 46 value 1.9674419997774346\n",
      "update norm 0.05406058877637625 at iter 47 value 1.9674401107799437\n",
      "update norm 0.09282965659266708 at iter 48 value 1.967435924668326\n",
      "update norm 0.028349400895535087 at iter 49 value 1.9674346306765034\n",
      "update norm 0.026529045518975475 at iter 50 value 1.9674288854396762\n",
      "update norm 0.013798546912352792 at iter 51 value 1.967427929598141\n",
      "update norm 0.0034913319206946814 at iter 52 value 1.9674278386781636\n",
      "update norm 0.0026683853496813504 at iter 53 value 1.9674277599038468\n",
      "update norm 0.002223447241938057 at iter 54 value 1.9674277265097002\n",
      "update norm 0.0056047244886617345 at iter 55 value 1.9674276831387103\n",
      "update norm 0.009461713371093753 at iter 56 value 1.9674275281956008\n",
      "update norm 0.01434222021300231 at iter 57 value 1.9674271764396334\n",
      "update norm 0.033125331439225164 at iter 58 value 1.967426380685961\n",
      "update norm 0.01820619419603884 at iter 59 value 1.9674248413738393\n",
      "update norm 0.02738964712917603 at iter 60 value 1.9674243169988181\n",
      "update norm 0.014105813977802601 at iter 61 value 1.9674230524370357\n",
      "update norm 0.005879993201176469 at iter 62 value 1.9674225002043484\n",
      "update norm 0.004750052882734921 at iter 63 value 1.967422407099164\n",
      "update norm 0.005162248487102484 at iter 64 value 1.9674223739141623\n",
      "update norm 0.005769721799045525 at iter 65 value 1.9674222897889382\n",
      "update norm 0.02100253872830915 at iter 66 value 1.9674219658331873\n",
      "update norm 0.034099148602697624 at iter 67 value 1.9674207462656246\n",
      "update norm 0.02823481864872159 at iter 68 value 1.9674197218495455\n",
      "update norm 0.037412914846944915 at iter 69 value 1.9674180947299815\n",
      "update norm 0.010692003661224914 at iter 70 value 1.967417088450727\n",
      "update norm 0.005004840178481251 at iter 71 value 1.9674169402774058\n",
      "update norm 0.0013037279922835808 at iter 72 value 1.9674168787415893\n",
      "update norm 0.007982727861344692 at iter 73 value 1.9674168414569604\n",
      "update norm 0.013809211893995848 at iter 74 value 1.967416629269041\n",
      "update norm 0.03643148735031636 at iter 75 value 1.9674163615408056\n",
      "update norm 0.023321811716848984 at iter 76 value 1.9674159869403687\n",
      "update norm 0.007870594214679873 at iter 77 value 1.9674158736985417\n",
      "update norm 0.0029547728093472776 at iter 78 value 1.9674156939722462\n",
      "update norm 0.003968458178832669 at iter 79 value 1.9674156469010131\n",
      "update norm 0.004472340373454526 at iter 80 value 1.9674156018193338\n",
      "update norm 0.00546617109191175 at iter 81 value 1.9674155687443693\n",
      "update norm 0.001467104108331506 at iter 82 value 1.9674155571250527\n",
      "update norm 0.002177403662155277 at iter 83 value 1.9674155249892837\n",
      "update norm 0.0017493268874502553 at iter 84 value 1.967415513672198\n",
      "update norm 0.0020524921321678487 at iter 85 value 1.967415506071386\n",
      "update norm 0.002175119095171235 at iter 86 value 1.9674154964916417\n",
      "update norm 0.0011343154417425441 at iter 87 value 1.9674154806767774\n",
      "update norm 0.0061989829850791125 at iter 88 value 1.9674154561813884\n",
      "update norm 0.008235617088276408 at iter 89 value 1.9674153570998971\n",
      "update norm 0.0039904290315404154 at iter 90 value 1.9674152649209962\n",
      "update norm 0.008347818953958508 at iter 91 value 1.9674152338749233\n",
      "update norm 0.0018018383558969112 at iter 92 value 1.967415174422696\n",
      "update norm 0.0005214770468741897 at iter 93 value 1.9674151611076027\n",
      "update norm 0.0005779978678221321 at iter 94 value 1.9674151549160475\n",
      "update norm 0.001984859885539632 at iter 95 value 1.9674151486434779\n",
      "update norm 0.0037620231566359245 at iter 96 value 1.967415122164462\n",
      "update norm 0.009268513778968196 at iter 97 value 1.967415070307231\n",
      "update norm 0.012799457220491785 at iter 98 value 1.9674149731914876\n",
      "update norm 0.012882449312902297 at iter 99 value 1.9674148244050986\n",
      "update norm 0.01401246850155263 at iter 100 value 1.9674146620683506\n",
      "Final parameters: {'beta_dust': Array([1.55937365, 1.5476792 , 1.61750882, 1.64421275, 1.70921828,\n",
      "       1.76676975, 1.84591813, 1.92022204, 1.91350775, 1.96897496,\n",
      "       2.01465748, 2.06034687, 2.13911743, 2.16779861, 2.26217054,\n",
      "       2.29129079, 2.36065816, 2.3866813 , 2.45758981, 2.49999591],      dtype=float64), 'beta_pl': Array([-3.2127583 , -2.71024398, -2.95644661, -1.77674022, -1.89901069],      dtype=float64), 'temp_dust': Array([ 9.71155024, 12.63966125, 15.03527423, 16.93526322, 18.78609427,\n",
      "       20.74355245, 22.29451173, 26.41948858, 27.83224286, 29.92678799],      dtype=float64)}, number of evaluations: 100\n",
      "Last Value: 1.9674145977144897\n"
     ]
    }
   ],
   "source": [
    "import optax\n",
    "import optax.tree_utils as otu\n",
    "\n",
    "solver = optax.lbfgs()\n",
    "\n",
    "final_params, final_state = optimize(\n",
    "    params,\n",
    "    spectral_cmb_variance,\n",
    "    solver,\n",
    "    max_iter=100,\n",
    "    tol=1e-4,\n",
    "    verbose=True,\n",
    "    nu=nu,\n",
    "    N=N,\n",
    "    d=d,\n",
    "    patch_indices=masked_clusters,\n",
    ")\n",
    "\n",
    "\n",
    "print(\n",
    "    f\"Final parameters: {final_params}, number of evaluations: {otu.tree_get(final_state, 'count')}\"\n",
    ")\n",
    "last_value = spectral_cmb_variance(final_params, nu=nu, d=d, N=N, patch_indices=masked_clusters)\n",
    "print(f'Last Value: {last_value}')"
   ]
  },
  {
   "cell_type": "code",
   "execution_count": null,
   "metadata": {},
   "outputs": [
    {
     "name": "stdout",
     "output_type": "stream",
     "text": [
      "Difference: {'beta_dust': Array([0.05940931, 0.00577722, 0.0126767 , 0.0132646 , 0.0013767 ,\n",
      "       0.00356302, 0.02978986, 0.05180431, 0.00742601, 0.00425985,\n",
      "       0.01149651, 0.01840743, 0.0075626 , 0.01625152, 0.02485424,\n",
      "       0.00173486, 0.01846423, 0.00837022, 0.00993004, 0.00011424],      dtype=float64), 'beta_pl': Array([0.19354235, 0.03651082, 0.42859218, 0.48084183, 0.11913897],      dtype=float64), 'temp_dust': Array([0.28862031, 0.42973495, 0.5723486 , 0.245953  , 0.08225898,\n",
      "       0.36403195, 1.02150834, 0.84957078, 0.04525634, 0.06763357],      dtype=float64)}\n",
      "All close: False\n",
      "Good variance : 1.9697431244929993 , Found variance : 1.9674153845353084 \n",
      "Found variance is better than good variance : True\n"
     ]
    }
   ],
   "source": [
    "diff = jax.tree.map(lambda x, y: jnp.abs(x - y), final_params, params)\n",
    "print(f'Difference: {diff}')\n",
    "print(f'All close: {allclose(final_params , params)}')\n",
    "\n",
    "good_var = spectral_cmb_variance(params, nu=nu, d=d, N=N, patch_indices=masked_clusters)\n",
    "found_var = spectral_cmb_variance(final_params, nu=nu, d=d, N=N, patch_indices=masked_clusters)\n",
    "\n",
    "print(f'Good variance : {good_var} , Bad variance : {bad_var}')\n",
    "print(f'Good variance is better than bad variance : {good_var < bad_var}')"
   ]
  },
  {
   "cell_type": "code",
   "execution_count": 22,
   "metadata": {},
   "outputs": [],
   "source": [
    "from furax import Config\n",
    "import lineax as lx\n",
    "\n",
    "wrong_params = jax.tree.map(\n",
    "    lambda x: jax.random.normal(jax.random.PRNGKey(0), x.shape) * 0.2 + x, params\n",
    ")\n",
    "\n",
    "options = {'solver': lx.CG(rtol=1e-6, atol=1e-6, max_steps=100000), 'solver_throw': False}\n",
    "\n",
    "with Config(**options):\n",
    "    final_params, final_state = optimize(\n",
    "        wrong_params,\n",
    "        spectral_cmb_variance,\n",
    "        solver,\n",
    "        max_iter=100,\n",
    "        tol=1e-10,\n",
    "        verbose=True,\n",
    "        nu=nu,\n",
    "        N=N,\n",
    "        d=d,\n",
    "        patch_indices=masked_clusters,\n",
    "    )"
   ]
  },
  {
   "cell_type": "code",
   "execution_count": null,
   "metadata": {},
   "outputs": [
    {
     "name": "stdout",
     "output_type": "stream",
     "text": [
      "Final parameters: {'beta_dust': Array([1.55965158, 1.54594906, 1.61617836, 1.64288306, 1.70723287,\n",
      "       1.76471331, 1.8472794 , 1.9206438 , 1.91298391, 1.9669797 ,\n",
      "       2.01576767, 2.06169267, 2.1394954 , 2.16912288, 2.26342329,\n",
      "       2.28900693, 2.36210605, 2.38435116, 2.45890322, 2.49765325],      dtype=float64), 'beta_pl': Array([-3.22920854, -2.68138282, -2.94391598, -1.77461483, -1.88842524],      dtype=float64), 'temp_dust': Array([ 9.70942361, 12.67074412, 15.06091915, 16.98783317, 18.87662388,\n",
      "       20.84742593, 22.22177504, 26.31661896, 27.8807676 , 30.1519619 ],      dtype=float64)}, number of evaluations: 100\n",
      "Last Value: 1.9674152292453058\n",
      "Difference: {'beta_dust': Array([0.05965158, 0.00668252, 0.01091521, 0.01501167, 0.00329344,\n",
      "       0.00155541, 0.03148993, 0.05222275, 0.00806872, 0.00670451,\n",
      "       0.01054812, 0.0172547 , 0.00791646, 0.01508764, 0.02658119,\n",
      "       0.00046675, 0.02000079, 0.01038569, 0.0115348 , 0.00234675],      dtype=float64), 'beta_pl': Array([0.22920854, 0.06861718, 0.44391598, 0.47538517, 0.11157476],      dtype=float64), 'temp_dust': Array([0.29057639, 0.4485219 , 0.6164747 , 0.32116651, 0.01226501,\n",
      "       0.26368518, 1.1115583 , 0.76106341, 0.10298982, 0.1519619 ],      dtype=float64)}\n",
      "Good variance : 1.9697431244929993 , Found variance : 1.9674152292453058 \n",
      "Found variance is better than good variance : True\n"
     ]
    }
   ],
   "source": [
    "print(\n",
    "    f\"Final parameters: {final_params}, number of evaluations: {otu.tree_get(final_state, 'count')}\"\n",
    ")\n",
    "last_value = spectral_cmb_variance(final_params, nu=nu, d=d, N=N, patch_indices=masked_clusters)\n",
    "print(f'Last Value: {last_value}')\n",
    "\n",
    "diff = jax.tree.map(lambda x, y: jnp.abs(x - y), final_params, params)\n",
    "print(f'Difference: {diff}')\n",
    "print(f'All close: {allclose(final_params , params)}')\n",
    "\n",
    "good_var = spectral_cmb_variance(params, nu=nu, d=d, N=N, patch_indices=masked_clusters)\n",
    "found_var = spectral_cmb_variance(final_params, nu=nu, d=d, N=N, patch_indices=masked_clusters)\n",
    "\n",
    "print(f'Good variance : {good_var} , Bad variance : {bad_var}')\n",
    "print(f'Good variance is better than bad variance : {good_var < bad_var}')"
   ]
  },
  {
   "cell_type": "code",
   "execution_count": 24,
   "metadata": {},
   "outputs": [],
   "source": [
    "wrong_params = jax.tree.map(\n",
    "    lambda x: jax.random.normal(jax.random.PRNGKey(0), x.shape) * 0.8 + x, params\n",
    ")\n",
    "\n",
    "options = {'solver': lx.CG(rtol=1e-6, atol=1e-6, max_steps=100000), 'solver_throw': False}\n",
    "\n",
    "with Config(**options):\n",
    "    final_params, final_state = optimize(\n",
    "        wrong_params,\n",
    "        spectral_cmb_variance,\n",
    "        solver,\n",
    "        max_iter=50,\n",
    "        tol=1e-10,\n",
    "        verbose=True,\n",
    "        nu=nu,\n",
    "        N=N,\n",
    "        d=d,\n",
    "        patch_indices=masked_clusters,\n",
    "    )"
   ]
  },
  {
   "cell_type": "code",
   "execution_count": null,
   "metadata": {},
   "outputs": [
    {
     "name": "stdout",
     "output_type": "stream",
     "text": [
      "Final parameters: {'beta_dust': Array([1.56219501, 1.54797421, 1.6032405 , 1.63774592, 1.70313147,\n",
      "       1.76122864, 1.84729369, 1.92362992, 1.91190687, 1.95901557,\n",
      "       2.02040594, 2.06652841, 2.14061936, 2.17470678, 2.26424313,\n",
      "       2.27867653, 2.36471371, 2.38444389, 2.45929723, 2.49385363],      dtype=float64), 'beta_pl': Array([-3.56219755, -2.67207862, -3.1397604 , -2.33997318, -2.07198975],      dtype=float64), 'temp_dust': Array([ 9.68965457, 12.71113221, 15.4340221 , 17.18911212, 18.78686149,\n",
      "       20.97349772, 22.22890417, 25.89909751, 27.97742087, 31.22189766],      dtype=float64)}, number of evaluations: 50\n",
      "Last Value: 1.9676227538685267\n",
      "Difference: {'beta_dust': Array([0.06219501, 0.00465736, 0.00202265, 0.02014882, 0.00739485,\n",
      "       0.00192926, 0.03150421, 0.05520887, 0.00914576, 0.01466864,\n",
      "       0.00590985, 0.01241896, 0.00904041, 0.00950374, 0.02740102,\n",
      "       0.01079715, 0.02260845, 0.01029295, 0.01192881, 0.00614637],      dtype=float64), 'beta_pl': Array([0.56219755, 0.07792138, 0.6397604 , 0.08997318, 0.07198975],      dtype=float64), 'temp_dust': Array([0.31034543, 0.48890999, 0.98957766, 0.52244545, 0.1020274 ,\n",
      "       0.13761339, 1.10442916, 0.34354195, 0.19964309, 1.22189766],      dtype=float64)}\n",
      "All close: False\n",
      "Good variance : 1.9697431244929993 , Found variance : 1.9676227538685267 \n",
      "Found variance is better than good variance : True\n"
     ]
    }
   ],
   "source": [
    "print(\n",
    "    f\"Final parameters: {final_params}, number of evaluations: {otu.tree_get(final_state, 'count')}\"\n",
    ")\n",
    "last_value = spectral_cmb_variance(final_params, nu=nu, d=d, N=N, patch_indices=masked_clusters)\n",
    "print(f'Last Value: {last_value}')\n",
    "\n",
    "\n",
    "diff = jax.tree.map(lambda x, y: jnp.abs(x - y), final_params, params)\n",
    "print(f'Difference: {diff}')\n",
    "print(f'All close: {allclose(final_params , params)}')\n",
    "\n",
    "good_var = spectral_cmb_variance(params, nu=nu, d=d, N=N, patch_indices=masked_clusters)\n",
    "found_var = spectral_cmb_variance(final_params, nu=nu, d=d, N=N, patch_indices=masked_clusters)\n",
    "\n",
    "print(f'Good variance : {good_var} , Bad variance : {bad_var}')\n",
    "print(f'Good variance is better than bad variance : {good_var < bad_var}')"
   ]
  },
  {
   "cell_type": "code",
   "execution_count": 28,
   "metadata": {},
   "outputs": [
    {
     "name": "stderr",
     "output_type": "stream",
     "text": [
      "/home/wassim/micromamba/envs/jax/lib/python3.10/site-packages/jaxopt/_src/scipy_wrappers.py:343: OptimizeWarning: Unknown solver options: maxiter\n",
      "  res = osp.optimize.minimize(scipy_fun, jnp_to_onp(init_params, self.dtype),\n"
     ]
    }
   ],
   "source": [
    "import jaxopt\n",
    "\n",
    "wrong_params = jax.tree.map(\n",
    "    lambda x: jax.random.normal(jax.random.PRNGKey(0), x.shape) * 0.5 + x, params\n",
    ")\n",
    "\n",
    "\n",
    "options = {'solver': lx.CG(rtol=1e-6, atol=1e-6, max_steps=100000), 'solver_throw': False}\n",
    "\n",
    "with Config(**options):\n",
    "    scipy_solver = jaxopt.ScipyMinimize(\n",
    "        fun=spectral_cmb_variance, method='TNC', jit=True, tol=1e-10, maxiter=1000\n",
    "    )\n",
    "    result = scipy_solver.run(wrong_params, nu=nu, N=N, d=d, patch_indices=masked_clusters)\n",
    "    result.params"
   ]
  },
  {
   "cell_type": "code",
   "execution_count": null,
   "metadata": {},
   "outputs": [
    {
     "name": "stdout",
     "output_type": "stream",
     "text": [
      "Final parameters: {'beta_dust': Array([1.54122098, 1.45819386, 1.66423758, 1.62275839, 1.72786714,\n",
      "       1.74833724, 1.82335   , 1.9201992 , 1.90993046, 1.95738998,\n",
      "       2.00264487, 2.04773854, 2.12074613, 2.16716361, 2.23877476,\n",
      "       2.27747991, 2.34011838, 2.38577718, 2.4340529 , 2.496341  ],      dtype=float64), 'beta_pl': Array([-3.41841698, -2.79551208, -2.70174201, -2.74708858, -2.37779832],      dtype=float64), 'temp_dust': Array([ 9.879596  , 13.89312583, 14.01017005, 17.71485404, 18.50818273,\n",
      "       20.97659514, 23.52126927, 27.26072875, 27.88490813, 30.9797512 ],      dtype=float64)}, number of evaluations: 28\n",
      "Last Value: 1.9693476179965872\n",
      "Difference: {'beta_dust': Array([0.04122098, 0.09443772, 0.05897442, 0.03513635, 0.01734082,\n",
      "       0.01482065, 0.00756053, 0.05177814, 0.01112217, 0.01629423,\n",
      "       0.02367092, 0.03120883, 0.01083282, 0.01704692, 0.00193266,\n",
      "       0.01199377, 0.00198689, 0.00895967, 0.01331552, 0.003659  ],      dtype=float64), 'beta_pl': Array([0.41841698, 0.04551208, 0.20174201, 0.49708858, 0.37779832],      dtype=float64), 'temp_dust': Array([0.120404  , 1.67090361, 0.43427439, 1.04818737, 0.38070616,\n",
      "       0.13451597, 0.18793593, 1.70517319, 0.10713035, 0.9797512 ],      dtype=float64)}\n",
      "All close: False\n",
      "Good variance : 1.9697431244929993 , Found variance : 1.9693476179965872 \n",
      "Found variance is better than good variance : True\n"
     ]
    }
   ],
   "source": [
    "print(f'Final parameters: {result.params}, number of evaluations: {result.state.iter_num}')\n",
    "last_value = spectral_cmb_variance(result.params, nu=nu, d=d, N=N, patch_indices=masked_clusters)\n",
    "print(f'Last Value: {last_value}')\n",
    "\n",
    "diff = jax.tree.map(lambda x, y: jnp.abs(x - y), result.params, params)\n",
    "print(f'Difference: {diff}')\n",
    "print(f'All close: {allclose( result.params , params)}')\n",
    "\n",
    "good_var = spectral_cmb_variance(params, nu=nu, d=d, N=N, patch_indices=masked_clusters)\n",
    "found_var = spectral_cmb_variance(result.params, nu=nu, d=d, N=N, patch_indices=masked_clusters)\n",
    "\n",
    "print(f'Good variance : {good_var} , Found variance : {found_var} ')\n",
    "print(f'Found variance is better than good variance : {found_var < good_var}')"
   ]
  },
  {
   "cell_type": "code",
   "execution_count": 36,
   "metadata": {},
   "outputs": [
    {
     "data": {
      "image/png": "[encoded data removed]",
      "text/plain": [
       "<Figure size 1500x500 with 6 Axes>"
      ]
     },
     "metadata": {},
     "output_type": "display_data"
    }
   ],
   "source": [
    "wrong_temp_dust_patches_count = 15\n",
    "wrong_beta_dust_patches_count = 25\n",
    "wrong_beta_pl_patches_count = 10\n",
    "\n",
    "\n",
    "wrong_temp_dust_patch_indices = get_clusters(\n",
    "    GAL020, wrong_temp_dust_patches_count, jax.random.PRNGKey(0)\n",
    ")\n",
    "wrong_beta_dust_patch_indices = get_clusters(\n",
    "    GAL020, wrong_beta_dust_patches_count, jax.random.PRNGKey(0)\n",
    ")\n",
    "wrong_beta_pl_patch_indices = get_clusters(\n",
    "    GAL020, wrong_beta_pl_patches_count, jax.random.PRNGKey(0)\n",
    ")\n",
    "\n",
    "wrong_patch_params = {\n",
    "    'temp_dust': jnp.linspace(10.0, 30.0, wrong_temp_dust_patches_count),\n",
    "    'beta_dust': jnp.linspace(1.5, 2.5, wrong_beta_dust_patches_count),\n",
    "    'beta_pl': jnp.linspace(-3.0, -2.0, wrong_beta_pl_patches_count),\n",
    "}\n",
    "\n",
    "wrong_patch_indices = {\n",
    "    'temp_dust_patches': temp_dust_patch_indices,\n",
    "    'beta_dust_patches': beta_dust_patch_indices,\n",
    "    'beta_pl_patches': beta_pl_patch_indices,\n",
    "}\n",
    "\n",
    "# Set up subplots\n",
    "fig = plt.figure(figsize=(15, 5))\n",
    "# Plot each map\n",
    "hp.mollview(wrong_temp_dust_patch_indices, title='Temperature Dust Patches', sub=(1, 3, 1))\n",
    "hp.mollview(wrong_beta_dust_patch_indices, title='Beta Dust Patches', sub=(1, 3, 2))\n",
    "hp.mollview(wrong_beta_pl_patch_indices, title='Beta PL Patches', sub=(1, 3, 3))\n",
    "\n",
    "# Display the plot\n",
    "plt.show()\n",
    "\n",
    "\n",
    "(indices,) = jnp.where(GAL020 == 1)\n",
    "\n",
    "masked_sky = jax.tree.map(lambda full_map: get_cutout_from_mask(full_map, indices), sky)\n",
    "masked_wrong_clusters = jax.tree.map(\n",
    "    lambda full_map: get_cutout_from_mask(full_map, indices).astype(jnp.int32), wrong_patch_indices\n",
    ")"
   ]
  },
  {
   "cell_type": "code",
   "execution_count": 37,
   "metadata": {},
   "outputs": [
    {
     "name": "stdout",
     "output_type": "stream",
     "text": [
      "update norm 82.08047291768935 at iter 0 value inf\n",
      "update norm 1.0 at iter 1 value 2.508206737482858\n",
      "update norm 0.16038065295820703 at iter 2 value 2.005241730745153\n",
      "update norm 0.09180220111038975 at iter 3 value 1.9768074287184136\n",
      "update norm 0.030237091680275063 at iter 4 value 1.9722093394643585\n",
      "update norm 0.02255253823795978 at iter 5 value 1.9717319672157143\n",
      "update norm 0.022977421456530013 at iter 6 value 1.971580899296396\n",
      "update norm 0.08453763236289946 at iter 7 value 1.9714753452567662\n",
      "update norm 0.1989705391291394 at iter 8 value 1.9711597061877715\n",
      "update norm 0.4109233194769819 at iter 9 value 1.97052041537341\n",
      "update norm 0.260857571617402 at iter 10 value 1.9694413724327686\n",
      "update norm 0.16260222696498866 at iter 11 value 1.9688864297718012\n",
      "update norm 0.05390908327840173 at iter 12 value 1.9681278211812758\n",
      "update norm 0.012362592530718667 at iter 13 value 1.9679374726414463\n",
      "update norm 0.003067377683306953 at iter 14 value 1.9679242155033103\n",
      "update norm 0.0015453624330040575 at iter 15 value 1.9679214677780956\n",
      "update norm 0.0053965632577945314 at iter 16 value 1.9679209477099995\n",
      "update norm 0.009545977737910431 at iter 17 value 1.9679189089541298\n",
      "update norm 0.03449586028163572 at iter 18 value 1.9679153819169946\n",
      "update norm 0.07469998367400814 at iter 19 value 1.9679037460808788\n",
      "update norm 0.1926307664143657 at iter 20 value 1.9678793675528385\n",
      "update norm 0.3441581498864211 at iter 21 value 1.9678238125899359\n",
      "update norm 0.14719145118713353 at iter 22 value 1.9677657789753331\n",
      "update norm 0.05052505584957315 at iter 23 value 1.9676933813230124\n",
      "update norm 0.009453854115549635 at iter 24 value 1.9676588069614198\n",
      "update norm 0.0016600913947358788 at iter 25 value 1.9676555778112452\n",
      "update norm 0.0017406406948852363 at iter 26 value 1.967655047986715\n",
      "update norm 0.009449745293210602 at iter 27 value 1.9676543782178624\n",
      "update norm 0.02093734503642622 at iter 28 value 1.9676511620241177\n",
      "update norm 0.0649797829178709 at iter 29 value 1.9676452673933655\n",
      "update norm 0.15253343837893193 at iter 30 value 1.9676291619718373\n",
      "update norm 0.26068970589585755 at iter 31 value 1.9675952086266544\n",
      "update norm 0.05828350897873458 at iter 32 value 1.9675450475673342\n",
      "update norm 0.12036499911547714 at iter 33 value 1.9675349490102834\n",
      "update norm 0.014516555573570544 at iter 34 value 1.967500202285465\n",
      "update norm 0.0037941578490522823 at iter 35 value 1.9674856109640475\n",
      "update norm 0.0006341762484594082 at iter 36 value 1.9674852380196606\n",
      "update norm 0.0026038983060756807 at iter 37 value 1.9674850401872597\n",
      "update norm 0.0033007469671565 at iter 38 value 1.9674846068518281\n",
      "update norm 0.015175148866151981 at iter 39 value 1.9674841002370194\n",
      "update norm 0.03057749349329168 at iter 40 value 1.9674820069235275\n",
      "update norm 0.06414400411094696 at iter 41 value 1.9674781819256617\n",
      "update norm 0.06088534589961341 at iter 42 value 1.967472544198005\n",
      "update norm 0.002709617805196789 at iter 43 value 1.96746718038081\n",
      "update norm 0.0028917068940179915 at iter 44 value 1.9674638904764874\n",
      "update norm 0.0007496144264291089 at iter 45 value 1.9674628954151798\n",
      "update norm 0.008125074529464154 at iter 46 value 1.9674626955689436\n",
      "update norm 0.015551559188248488 at iter 47 value 1.9674612110866774\n",
      "update norm 0.0425380762383744 at iter 48 value 1.9674588828096082\n",
      "update norm 0.07214813760843124 at iter 49 value 1.967453699218688\n",
      "update norm 0.029875025115404828 at iter 50 value 1.967447436717244\n"
     ]
    }
   ],
   "source": [
    "options = {'solver': lx.CG(rtol=1e-6, atol=1e-6, max_steps=100000), 'solver_throw': False}\n",
    "\n",
    "with Config(**options):\n",
    "    wrong_patch_final_params, wrong_patch_final_state = optimize(\n",
    "        wrong_patch_params,\n",
    "        spectral_cmb_variance,\n",
    "        solver,\n",
    "        max_iter=50,\n",
    "        tol=1e-10,\n",
    "        verbose=True,\n",
    "        nu=nu,\n",
    "        N=N,\n",
    "        d=d,\n",
    "        patch_indices=masked_wrong_clusters,\n",
    "    )"
   ]
  },
  {
   "cell_type": "code",
   "execution_count": null,
   "metadata": {},
   "outputs": [
    {
     "name": "stdout",
     "output_type": "stream",
     "text": [
      "Final parameters: {'beta_dust': Array([1.65342739, 1.639047  , 1.71547782, 1.74102361, 1.80747816,\n",
      "       1.86343096, 1.9438397 , 2.01910455, 2.0108351 , 2.06912037,\n",
      "       2.11325751, 2.15911342, 2.23964858, 2.26682515, 2.36256668,\n",
      "       2.39152198, 2.46159268, 2.48855226, 2.55957655, 2.6007996 ,\n",
      "       2.33333333, 2.375     , 2.41666667, 2.45833333, 2.5       ],      dtype=float64), 'beta_pl': Array([-3.20268467, -2.84668184, -2.89357393, -1.81531958, -1.86784951,\n",
      "       -2.44444444, -2.33333333, -2.22222222, -2.11111111, -2.        ],      dtype=float64), 'temp_dust': Array([ 8.93380316, 11.38670764, 13.08546627, 14.47944079, 15.80535176,\n",
      "       17.1270217 , 18.12002038, 20.67200949, 21.51688352, 22.67156888,\n",
      "       24.28571429, 25.71428571, 27.14285714, 28.57142857, 30.        ],      dtype=float64)}, number of evaluations: 50\n",
      "Last Value: 1.9674417785557565\n",
      "Good variance : 1.9697431244929993 , Found variance : 1.9676227538685267 wrong patch variance : 1.9674417785557565\n",
      "Found variance is better than good variance : True\n",
      "Wrong patches variance is better than good variance : True\n",
      "Wrong patches is better than found variance : True\n"
     ]
    }
   ],
   "source": [
    "print(f'Final parameters: {wrong_patch_final_params}')\n",
    "print(f\"number of evaluations: {otu.tree_get(wrong_patch_final_state, 'count')}\")\n",
    "\n",
    "last_value = spectral_cmb_variance(\n",
    "    wrong_patch_final_params, nu=nu, d=d, N=N, patch_indices=masked_wrong_clusters\n",
    ")\n",
    "\n",
    "print(f'Last Value: {last_value}')\n",
    "\n",
    "good_var = spectral_cmb_variance(params, nu=nu, d=d, N=N, patch_indices=masked_clusters)\n",
    "wrong_patch_found_var = spectral_cmb_variance(\n",
    "    wrong_patch_final_params, nu=nu, d=d, N=N, patch_indices=masked_wrong_clusters\n",
    ")\n",
    "found_var = spectral_cmb_variance(final_params, nu=nu, d=d, N=N, patch_indices=masked_clusters)\n",
    "\n",
    "print(f'Good variance : {good_var} , ')\n",
    "print(f'Found variance : {found_var} ')\n",
    "print(f'wrong patch variance : {wrong_patch_found_var}')\n",
    "print(f'Found variance is better than good variance : {found_var < good_var}')\n",
    "print(f'Wrong patches variance is better than good variance : {wrong_patch_found_var < good_var}')\n",
    "print(f'Wrong patches is better than found variance : {wrong_patch_found_var < found_var}')"
   ]
  },
  {
   "cell_type": "code",
   "execution_count": 61,
   "metadata": {},
   "outputs": [
    {
     "data": {
      "image/png": "[encoded data removed]",
      "text/plain": [
       "<Figure size 850x540 with 2 Axes>"
      ]
     },
     "metadata": {},
     "output_type": "display_data"
    }
   ],
   "source": [
    "wrong_temp_dust_patches_count = 25\n",
    "\n",
    "\n",
    "wrong_temp_dust_patch_indices = get_clusters(\n",
    "    GAL020, wrong_temp_dust_patches_count, jax.random.PRNGKey(0)\n",
    ")\n",
    "hp.mollview(wrong_temp_dust_patch_indices, title='Temperature Dust Patches')"
   ]
  },
  {
   "cell_type": "code",
   "execution_count": 73,
   "metadata": {},
   "outputs": [],
   "source": [
    "import jax_healpy as jhp\n",
    "from furax.comp_sep import kmeans_sample\n",
    "\n",
    "key = jax.random.PRNGKey(0)\n",
    "n_regions = 30\n",
    "npix = GAL020.size\n",
    "nside = jhp.npix2nside(npix)\n",
    "ipix = jnp.arange(npix)\n",
    "ra, dec = jhp.pix2ang(nside, ipix, lonlat=True)\n",
    "goodpix = GAL020 > 0\n",
    "ra_dec = jnp.stack([ra[goodpix], dec[goodpix]], axis=-1)\n",
    "km = kmeans_sample(key, ra_dec, n_regions, maxiter=100, tol=1.0e-5)"
   ]
  },
  {
   "cell_type": "code",
   "execution_count": 72,
   "metadata": {},
   "outputs": [
    {
     "data": {
      "text/plain": [
       "(Array(1, dtype=int32), Array(1, dtype=int32), 1)"
      ]
     },
     "execution_count": 72,
     "metadata": {},
     "output_type": "execute_result"
    }
   ],
   "source": [
    "km.labels.max(), km.labels.min(), jnp.unique(km.labels).size"
   ]
  },
  {
   "cell_type": "code",
   "execution_count": null,
   "metadata": {},
   "outputs": [
    {
     "data": {
      "image/png": "[encoded data removed]",
      "text/plain": [
       "<Figure size 1500x500 with 6 Axes>"
      ]
     },
     "metadata": {},
     "output_type": "display_data"
    }
   ],
   "source": [
    "wrong_temp_dust_patches_count = 100\n",
    "wrong_beta_dust_patches_count = 200\n",
    "wrong_beta_pl_patches_count = 300\n",
    "\n",
    "\n",
    "wrong_temp_dust_patch_indices = get_clusters(\n",
    "    GAL020, wrong_temp_dust_patches_count, jax.random.PRNGKey(0)\n",
    ")\n",
    "wrong_beta_dust_patch_indices = get_clusters(\n",
    "    GAL020, wrong_beta_dust_patches_count, jax.random.PRNGKey(0)\n",
    ")\n",
    "wrong_beta_pl_patch_indices = get_clusters(\n",
    "    GAL020, wrong_beta_pl_patches_count, jax.random.PRNGKey(0)\n",
    ")\n",
    "\n",
    "wrong_patch_params = {\n",
    "    'temp_dust': jnp.linspace(10.0, 30.0, wrong_temp_dust_patches_count),\n",
    "    'beta_dust': jnp.linspace(1.5, 2.5, wrong_beta_dust_patches_count),\n",
    "    'beta_pl': jnp.linspace(-3.0, -2.0, wrong_beta_pl_patches_count),\n",
    "}\n",
    "\n",
    "wrong_patch_indices = {\n",
    "    'temp_dust_patches': temp_dust_patch_indices,\n",
    "    'beta_dust_patches': beta_dust_patch_indices,\n",
    "    'beta_pl_patches': beta_pl_patch_indices,\n",
    "}\n",
    "\n",
    "# Set up subplots\n",
    "fig = plt.figure(figsize=(15, 5))\n",
    "# Plot each map\n",
    "hp.mollview(wrong_temp_dust_patch_indices, title='Temperature Dust Patches', sub=(1, 3, 1))\n",
    "hp.mollview(wrong_beta_dust_patch_indices, title='Beta Dust Patches', sub=(1, 3, 2))\n",
    "hp.mollview(wrong_beta_pl_patch_indices, title='Beta PL Patches', sub=(1, 3, 3))\n",
    "\n",
    "# Display the plot\n",
    "plt.show()\n",
    "\n",
    "\n",
    "(indices,) = jnp.where(GAL020 == 1)\n",
    "\n",
    "masked_sky = jax.tree.map(lambda full_map: get_cutout_from_mask(full_map, indices), sky)\n",
    "masked_wrong_clusters = jax.tree.map(\n",
    "    lambda full_map: get_cutout_from_mask(full_map, indices).astype(jnp.int32), wrong_patch_indices\n",
    ")"
   ]
  },
  {
   "cell_type": "code",
   "execution_count": null,
   "metadata": {},
   "outputs": [],
   "source": [
    "options = {'solver': lx.CG(rtol=1e-6, atol=1e-6, max_steps=100000), 'solver_throw': False}\n",
    "\n",
    "with Config(**options):\n",
    "    wrong_patch_final_params, wrong_patch_final_state = optimize(\n",
    "        wrong_patch_params,\n",
    "        spectral_cmb_variance,\n",
    "        solver,\n",
    "        max_iter=50,\n",
    "        tol=1e-10,\n",
    "        verbose=True,\n",
    "        nu=nu,\n",
    "        N=N,\n",
    "        d=d,\n",
    "        patch_indices=masked_wrong_clusters,\n",
    "    )"
   ]
  }
 ],
 "metadata": {
  "colab": {
   "provenance": []
  },
  "kernelspec": {
   "display_name": "Python 3",
   "language": "python",
   "name": "python3"
  },
  "language_info": {
   "codemirror_mode": {
    "name": "ipython",
    "version": 3
   },
   "file_extension": ".py",
   "mimetype": "text/x-python",
   "name": "python",
   "nbconvert_exporter": "python",
   "pygments_lexer": "ipython3",
   "version": "3.11.11"
  },
  "widgets": {
   "application/vnd.jupyter.widget-state+json": {
    "state": {},
    "version_major": 2,
    "version_minor": 0
   }
  }
 },
 "nbformat": 4,
 "nbformat_minor": 0
}
