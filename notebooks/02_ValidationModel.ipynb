{
 "cells": [
  {
   "cell_type": "code",
   "execution_count": 1,
   "metadata": {},
   "outputs": [],
   "source": [
    "%load_ext autoreload\n",
    "%autoreload 2\n",
    "import os\n",
    "\n",
    "os.environ[\"EQX_ON_ERROR\"] = \"nan\"\n",
    "from functools import partial\n",
    "\n",
    "import jax\n",
    "import jax.numpy as jnp\n",
    "import lineax as lx\n",
    "import numpy as np\n",
    "import optax\n",
    "from furax import Config, HomothetyOperator\n",
    "from furax._instruments.sky import (\n",
    "    FGBusterInstrument,\n",
    "    get_noise_from_instrument,\n",
    "    get_observation,\n",
    ")\n",
    "from furax.comp_sep import (\n",
    "    negative_log_likelihood,\n",
    "    spectral_cmb_variance,\n",
    ")\n",
    "from furax.obs.landscapes import HealpixLandscape\n",
    "from generate_maps import get_mixin_matrix_operator, simulate_D_from_params\n",
    "from jax_grid_search import optimize\n",
    "from jax_healpy import get_clusters, get_cutout_from_mask"
   ]
  },
  {
   "cell_type": "code",
   "execution_count": 2,
   "metadata": {},
   "outputs": [],
   "source": [
    "GAL020 = np.load(\"../data/masks/GAL_PlanckMasks_64.npz\")[\"GAL020\"]\n",
    "GAL040 = np.load(\"../data/masks/GAL_PlanckMasks_64.npz\")[\"GAL040\"]\n",
    "GAL060 = np.load(\"../data/masks/GAL_PlanckMasks_64.npz\")[\"GAL060\"]"
   ]
  },
  {
   "cell_type": "code",
   "execution_count": 3,
   "metadata": {},
   "outputs": [],
   "source": [
    "nside = 64\n",
    "npixel = 12 * nside**2\n",
    "patch_counts = {\n",
    "    \"temp_dust_patches\": 1,\n",
    "    \"beta_dust_patches\": 100,\n",
    "    \"beta_pl_patches\": 1,\n",
    "}\n",
    "\n",
    "max_centroids = 300\n",
    "mask = GAL020\n",
    "(indices,) = jnp.where(mask == 1)"
   ]
  },
  {
   "cell_type": "code",
   "execution_count": 4,
   "metadata": {},
   "outputs": [],
   "source": [
    "patch_indices = jax.tree.map(\n",
    "    lambda c: get_clusters(\n",
    "        mask, indices, c, jax.random.PRNGKey(0), max_centroids=max_centroids\n",
    "    ),\n",
    "    patch_counts,\n",
    ")\n",
    "masked_clusters = jax.tree.map(\n",
    "    lambda full_map: get_cutout_from_mask(full_map, indices).astype(jnp.int32),\n",
    "    patch_indices,\n",
    ")\n",
    "\n",
    "nu = FGBusterInstrument.default_instrument().frequency\n",
    "land_scape = HealpixLandscape(nside=nside, stokes=\"QU\")\n",
    "\n",
    "sky = {\n",
    "    \"cmb\": land_scape.normal(jax.random.key(0)),\n",
    "    \"dust\": land_scape.normal(jax.random.key(1)),\n",
    "    \"synchrotron\": land_scape.normal(jax.random.key(2)),\n",
    "}\n",
    "masked_sky = get_cutout_from_mask(sky, indices)"
   ]
  },
  {
   "cell_type": "code",
   "execution_count": 5,
   "metadata": {},
   "outputs": [],
   "source": [
    "best_params = {\n",
    "    \"temp_dust\": jnp.full((patch_counts[\"temp_dust_patches\"],), 20.0),\n",
    "    \"beta_dust\": jnp.full((patch_counts[\"beta_dust_patches\"],), 1.54),\n",
    "    \"beta_pl\": jnp.full((patch_counts[\"beta_pl_patches\"],), -3.0),\n",
    "}\n",
    "\n",
    "best_params_flat, tree_struct = jax.tree.flatten(best_params)\n",
    "best_params = jax.tree.map_with_path(\n",
    "    lambda path, x: x + jax.random.normal(jax.random.key(path[0].idx), x.shape) * 0.2,\n",
    "    best_params_flat,\n",
    ")\n",
    "best_params = jax.tree.unflatten(tree_struct, best_params)"
   ]
  },
  {
   "cell_type": "code",
   "execution_count": 6,
   "metadata": {},
   "outputs": [
    {
     "data": {
      "text/plain": [
       "{'beta_dust': Array([1.49883157, 1.38304684, 1.90321733, 1.5775688 , 1.55617358,\n",
       "        1.46557784, 1.77803274, 1.60772846, 1.55696517, 1.36563643,\n",
       "        1.75090322, 1.22810042, 1.61350792, 2.04327043, 1.59171303,\n",
       "        1.48325791, 1.43322177, 1.61358954, 1.50080716, 1.84081536,\n",
       "        1.55180981, 1.56831626, 1.57770313, 1.54934587, 1.25730186,\n",
       "        1.50100732, 1.76260491, 1.09459231, 1.42748075, 1.60027231,\n",
       "        1.30942339, 1.54260899, 1.79598285, 1.0333889 , 1.34438666,\n",
       "        1.25838338, 1.30573365, 1.7396384 , 1.45527308, 1.61711098,\n",
       "        1.43685442, 1.53523056, 1.6199428 , 1.21355378, 1.51907166,\n",
       "        1.41277575, 1.60968798, 1.53036035, 1.60655999, 1.31296924,\n",
       "        1.14378612, 1.68883529, 1.34205039, 1.53183941, 2.02366229,\n",
       "        1.37742847, 1.33009791, 1.28797115, 1.39153294, 1.43431806,\n",
       "        1.60543286, 1.55500526, 1.91423056, 1.68908721, 1.27919635,\n",
       "        1.57905523, 1.85323274, 1.98509326, 1.32746007, 1.75164565,\n",
       "        1.67378458, 1.18646281, 1.54065607, 1.81421103, 1.58930054,\n",
       "        1.44422357, 1.59613814, 1.91116758, 1.35658071, 1.60509808,\n",
       "        1.86665816, 1.54126442, 1.7507325 , 1.38564216, 1.62814518,\n",
       "        1.28299233, 2.05436316, 1.21621503, 1.55292683, 1.56005362,\n",
       "        1.42635565, 1.67373073, 1.35693928, 1.63960448, 1.67178121,\n",
       "        1.63496247, 1.52526929, 1.62494199, 1.42199043, 1.32122021],      dtype=float64),\n",
       " 'beta_pl': Array([-3.23685688], dtype=float64),\n",
       " 'temp_dust': Array([19.96167689], dtype=float64)}"
      ]
     },
     "execution_count": 6,
     "metadata": {},
     "output_type": "execute_result"
    }
   ],
   "source": [
    "best_params"
   ]
  },
  {
   "cell_type": "code",
   "execution_count": 7,
   "metadata": {},
   "outputs": [],
   "source": [
    "dust_nu0 = 150.0\n",
    "synchrotron_nu0 = 20.0\n",
    "masked_d = simulate_D_from_params(\n",
    "    best_params,\n",
    "    masked_clusters,\n",
    "    nu,\n",
    "    masked_sky,\n",
    "    dust_nu0=dust_nu0,\n",
    "    synchrotron_nu0=synchrotron_nu0,\n",
    ")\n",
    "\n",
    "instrument = FGBusterInstrument.default_instrument()\n",
    "pysm3_d = get_observation(instrument, 64, stokes_type=\"QU\", tag=\"c1d0s0\")\n",
    "\n",
    "masked_pysm3_d = get_cutout_from_mask(pysm3_d, indices, axis=1)\n",
    "\n",
    "spectral_cmb_variance_fn = partial(\n",
    "    spectral_cmb_variance, dust_nu0=dust_nu0, synchrotron_nu0=synchrotron_nu0\n",
    ")\n",
    "negative_log_likelihood_fn = partial(\n",
    "    negative_log_likelihood, dust_nu0=dust_nu0, synchrotron_nu0=synchrotron_nu0\n",
    ")\n",
    "\n",
    "N = HomothetyOperator(jnp.ones(1), _in_structure=masked_d.structure)\n",
    "solver = optax.lbfgs()\n",
    "\n",
    "inverser_options = {\n",
    "    \"solver\": lx.CG(rtol=1e-6, atol=1e-6, max_steps=1000),\n",
    "    \"solver_throw\": False,\n",
    "}"
   ]
  },
  {
   "cell_type": "code",
   "execution_count": 8,
   "metadata": {},
   "outputs": [
    {
     "data": {
      "text/plain": [
       "(10,)"
      ]
     },
     "execution_count": 8,
     "metadata": {},
     "output_type": "execute_result"
    }
   ],
   "source": [
    "instrument = FGBusterInstrument.default_instrument()\n",
    "\n",
    "instrument.depth_i.shape"
   ]
  },
  {
   "cell_type": "code",
   "execution_count": 9,
   "metadata": {},
   "outputs": [],
   "source": [
    "noise = get_noise_from_instrument(instrument, 64, stokes_type=\"QU\")\n",
    "masked_noise = get_cutout_from_mask(noise, indices, axis=1)\n",
    "noised_d = masked_d + masked_noise * 0.1"
   ]
  },
  {
   "cell_type": "code",
   "execution_count": 10,
   "metadata": {},
   "outputs": [
    {
     "data": {
      "text/plain": [
       "Array(0.00120374, dtype=float64)"
      ]
     },
     "execution_count": 10,
     "metadata": {},
     "output_type": "execute_result"
    }
   ],
   "source": [
    "A = get_mixin_matrix_operator(\n",
    "    best_params,\n",
    "    masked_clusters,\n",
    "    nu,\n",
    "    masked_sky,\n",
    "    dust_nu0=dust_nu0,\n",
    "    synchrotron_nu0=synchrotron_nu0,\n",
    ")\n",
    "\n",
    "\n",
    "def allclose(x, y, rtol=1e-05, atol=1e-08, equal_nan=False) -> bool:\n",
    "    return jax.tree.map(lambda x, y: ((x - y) ** 2).mean(), x, y)\n",
    "    return jax.tree.all(\n",
    "        jax.tree.map(\n",
    "            lambda x, y: jnp.allclose(x, y, rtol=rtol, atol=atol, equal_nan=equal_nan),\n",
    "            x,\n",
    "            y,\n",
    "        ),\n",
    "        True,\n",
    "    )\n",
    "\n",
    "\n",
    "s = (A.T @ N.I @ A).I((A.T @ N.I)(noised_d))\n",
    "jax.tree.reduce(max, allclose(s, masked_sky), 0.0)"
   ]
  },
  {
   "cell_type": "code",
   "execution_count": 35,
   "metadata": {},
   "outputs": [],
   "source": [
    "masked_d = masked_pysm3_d\n",
    "\n",
    "\n",
    "@partial(jax.jit, static_argnums=(5))\n",
    "def compute_minimum_variance(\n",
    "    T_d_patches, B_d_patches, B_s_patches, planck_mask, indices, max_patches=25\n",
    "):\n",
    "    temp_dust_patch_indices = None\n",
    "    beta_dust_patch_indices = get_clusters(\n",
    "        planck_mask,\n",
    "        indices,\n",
    "        B_d_patches,\n",
    "        jax.random.PRNGKey(0),\n",
    "        max_centroids=max_patches,\n",
    "    )\n",
    "    beta_pl_patch_indices = None\n",
    "\n",
    "    params = {\n",
    "        \"beta_dust\": jnp.full((max_patches,), 1.54),\n",
    "        \"temp_dust\": jnp.full((1,), 20.0),\n",
    "        \"beta_pl\": jnp.full((1,), (-3.0)),\n",
    "    }\n",
    "\n",
    "    patch_indices = {\n",
    "        \"temp_dust_patches\": temp_dust_patch_indices,\n",
    "        \"beta_dust_patches\": beta_dust_patch_indices,\n",
    "        \"beta_pl_patches\": beta_pl_patch_indices,\n",
    "    }\n",
    "\n",
    "    masked_clusters = jax.tree.map(\n",
    "        lambda full_map: get_cutout_from_mask(full_map, indices).astype(jnp.int32),\n",
    "        patch_indices,\n",
    "    )\n",
    "\n",
    "    with Config(**inverser_options):\n",
    "        final_params, final_state = optimize(\n",
    "            params,\n",
    "            negative_log_likelihood_fn,\n",
    "            solver,\n",
    "            max_iter=1000,\n",
    "            tol=1e-15,\n",
    "            verbose=True,\n",
    "            log_interval=0.01,\n",
    "            nu=nu,\n",
    "            N=N,\n",
    "            d=noised_d,\n",
    "            patch_indices=masked_clusters,\n",
    "        )\n",
    "\n",
    "    cmb_var = spectral_cmb_variance_fn(\n",
    "        final_params, nu=nu, d=noised_d, N=N, patch_indices=masked_clusters\n",
    "    )\n",
    "    nll = negative_log_likelihood_fn(\n",
    "        final_params, nu=nu, d=noised_d, N=N, patch_indices=masked_clusters\n",
    "    )\n",
    "\n",
    "    return {\n",
    "        \"value\": cmb_var,\n",
    "        \"NLL\": nll,\n",
    "        \"beta_dust\": final_params[\"beta_dust\"],\n",
    "        \"temp_dust\": final_params[\"temp_dust\"],\n",
    "        \"beta_pl\": final_params[\"beta_pl\"],\n",
    "    }"
   ]
  },
  {
   "cell_type": "code",
   "execution_count": 36,
   "metadata": {},
   "outputs": [
    {
     "name": "stdout",
     "output_type": "stream",
     "text": [
      "update norm 29.720699857170256 at iter 0 value inf\n",
      "update norm 0.00588818531296091 at iter 10 value -3763630.7008521864\n",
      "update norm 0.28775612331648676 at iter 20 value -3763630.7378949975\n",
      "update norm 4.1992327069108966e-05 at iter 30 value -3763630.763445585\n",
      "update norm 1.393534376870711e-08 at iter 40 value -3763630.763445588\n",
      "update norm 2.0185527364572618e-10 at iter 50 value -3763630.7634455883\n",
      "update norm 5.007651660843308e-12 at iter 60 value -3763630.7634455883\n",
      "update norm 4.359935808996625e-13 at iter 70 value -3763630.7634455883\n",
      "update norm 2.166503540299223e-13 at iter 80 value -3763630.763445588\n",
      "update norm 1.2626620896361715e-13 at iter 90 value -3763630.7634455883\n",
      "update norm 3.704591405038563e-13 at iter 100 value -3763630.763445588\n",
      "update norm 1.0949000037006079e-12 at iter 110 value -3763630.7634455883\n",
      "update norm 2.698437471468854e-13 at iter 120 value -3763630.7634455883\n",
      "update norm 4.661736363540289e-12 at iter 130 value -3763630.7634455883\n",
      "update norm 3.6727948115171895e-14 at iter 140 value -3763630.7634455883\n",
      "update norm 4.586630499181887e-14 at iter 150 value -3763630.763445588\n",
      "update norm 9.272796373820173e-14 at iter 160 value -3763630.763445588\n",
      "update norm 1.3146305992041355e-14 at iter 170 value -3763630.763445588\n",
      "update norm 2.2626717578802984e-09 at iter 180 value -3763630.763445588\n",
      "update norm 5.301047537235785e-13 at iter 190 value -3763630.763445588\n",
      "update norm 2.2336481762692465e-12 at iter 200 value -3763630.7634455883\n",
      "update norm 2.358856055458495e-12 at iter 210 value -3763630.763445588\n",
      "update norm 2.8310810587500673e-14 at iter 220 value -3763630.763445588\n",
      "update norm 29.720699857170256 at iter 0 value inf\n",
      "update norm 0.0011736079220612554 at iter 10 value -3763623.1708664894\n",
      "update norm 0.005866850390422798 at iter 20 value -3763623.231546885\n",
      "update norm 1.590333075617921e-06 at iter 30 value -3763623.231629908\n",
      "update norm 1.7791137340263293e-09 at iter 40 value -3763623.231629908\n",
      "update norm 2.590110962499237e-12 at iter 50 value -3763623.231629908\n",
      "update norm 3.7463984645800744e-13 at iter 60 value -3763623.231629908\n",
      "update norm 7.238212412243921e-11 at iter 70 value -3763623.231629908\n",
      "update norm 5.868022963783187e-13 at iter 80 value -3763623.231629908\n"
     ]
    }
   ],
   "source": [
    "bad_res = compute_minimum_variance(1, 200, 1, GAL020, indices, max_patches=200)\n",
    "good_res = compute_minimum_variance(1, 100, 1, GAL020, indices, max_patches=200)"
   ]
  },
  {
   "cell_type": "code",
   "execution_count": 37,
   "metadata": {},
   "outputs": [],
   "source": [
    "bell = negative_log_likelihood_fn(\n",
    "    best_params, nu=nu, N=N, d=noised_d, patch_indices=masked_clusters\n",
    ")\n",
    "gll = negative_log_likelihood_fn(\n",
    "    good_res, nu=nu, N=N, d=noised_d, patch_indices=masked_clusters\n",
    ")\n",
    "bll = negative_log_likelihood_fn(\n",
    "    bad_res, nu=nu, N=N, d=noised_d, patch_indices=masked_clusters\n",
    ")\n",
    "\n",
    "\n",
    "var_bell = spectral_cmb_variance_fn(\n",
    "    best_params, nu=nu, d=noised_d, N=N, patch_indices=masked_clusters\n",
    ")\n",
    "var_gll = spectral_cmb_variance_fn(\n",
    "    good_res, nu=nu, d=noised_d, N=N, patch_indices=masked_clusters\n",
    ")\n",
    "var_bll = spectral_cmb_variance_fn(\n",
    "    bad_res, nu=nu, d=noised_d, N=N, patch_indices=masked_clusters\n",
    ")"
   ]
  },
  {
   "cell_type": "code",
   "execution_count": 38,
   "metadata": {},
   "outputs": [
    {
     "data": {
      "text/plain": [
       "(Array(2.00928344, dtype=float64),\n",
       " Array(2.0160553, dtype=float64),\n",
       " Array(2.01685719, dtype=float64))"
      ]
     },
     "execution_count": 38,
     "metadata": {},
     "output_type": "execute_result"
    }
   ],
   "source": [
    "var_bell, var_gll, var_bll"
   ]
  },
  {
   "cell_type": "code",
   "execution_count": null,
   "metadata": {},
   "outputs": [
    {
     "data": {
      "text/plain": [
       "(Array(True, dtype=bool), Array(True, dtype=bool))"
      ]
     },
     "execution_count": 40,
     "metadata": {},
     "output_type": "execute_result"
    },
    {
     "ename": "",
     "evalue": "",
     "output_type": "error",
     "traceback": [
      "\u001b[1;31mThe Kernel crashed while executing code in the current cell or a previous cell. \n",
      "\u001b[1;31mPlease review the code in the cell(s) to identify a possible cause of the failure. \n",
      "\u001b[1;31mClick <a href='https://aka.ms/vscodeJupyterKernelCrash'>here</a> for more info. \n",
      "\u001b[1;31mView Jupyter <a href='command:jupyter.viewOutput'>log</a> for further details."
     ]
    }
   ],
   "source": [
    "gll > bell, gll < bll"
   ]
  },
  {
   "cell_type": "code",
   "execution_count": 34,
   "metadata": {},
   "outputs": [
    {
     "data": {
      "text/plain": [
       "(Array(True, dtype=bool), Array(True, dtype=bool))"
      ]
     },
     "execution_count": 34,
     "metadata": {},
     "output_type": "execute_result"
    }
   ],
   "source": [
    "var_gll > var_bell, var_gll < var_bll"
   ]
  },
  {
   "cell_type": "code",
   "execution_count": 23,
   "metadata": {},
   "outputs": [
    {
     "data": {
      "text/plain": [
       "Array(True, dtype=bool)"
      ]
     },
     "execution_count": 23,
     "metadata": {},
     "output_type": "execute_result"
    }
   ],
   "source": [
    "bll < bell"
   ]
  },
  {
   "cell_type": "code",
   "execution_count": null,
   "metadata": {},
   "outputs": [
    {
     "data": {
      "text/plain": [
       "Array(0.9741552, dtype=float64)"
      ]
     },
     "execution_count": 15,
     "metadata": {},
     "output_type": "execute_result"
    }
   ],
   "source": [
    "good_res[\"value\"], bad_res[\"value\"]"
   ]
  },
  {
   "cell_type": "code",
   "execution_count": null,
   "metadata": {},
   "outputs": [
    {
     "data": {
      "text/plain": [
       "Array(0.9741552, dtype=float64)"
      ]
     },
     "execution_count": 17,
     "metadata": {},
     "output_type": "execute_result"
    }
   ],
   "source": [
    "bad_res[\"value\"] > good_res[\"value\"]"
   ]
  }
 ],
 "metadata": {
  "kernelspec": {
   "display_name": "Python 3",
   "language": "python",
   "name": "python3"
  },
  "language_info": {
   "codemirror_mode": {
    "name": "ipython",
    "version": 3
   },
   "file_extension": ".py",
   "mimetype": "text/x-python",
   "name": "python",
   "nbconvert_exporter": "python",
   "pygments_lexer": "ipython3",
   "version": "3.11.11"
  }
 },
 "nbformat": 4,
 "nbformat_minor": 2
}
